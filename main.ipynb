{
 "cells": [
  {
   "cell_type": "markdown",
   "metadata": {},
   "source": [
    "### Imports"
   ]
  },
  {
   "cell_type": "code",
   "execution_count": 1,
   "metadata": {},
   "outputs": [],
   "source": [
    "import os\n",
    "import warnings\n",
    "import json\n",
    "from architectures import SimpleCNN\n",
    "from torch.utils.tensorboard import SummaryWriter\n",
    "from Img_Dataset import Imgdataset\n",
    "import numpy as np\n",
    "import torch\n",
    "from torch.utils.data import DataLoader\n",
    "from tqdm import tqdm\n",
    "from matplotlib import pyplot as plt"
   ]
  },
  {
   "cell_type": "markdown",
   "metadata": {},
   "source": [
    "### Utils"
   ]
  },
  {
   "cell_type": "code",
   "execution_count": 2,
   "metadata": {},
   "outputs": [],
   "source": [
    "def plot(inputs, targets, predictions, path, update):\n",
    "    \"\"\"Plotting the inputs, targets and predictions to file ``path``.\"\"\"\n",
    "    os.makedirs(path, exist_ok=True)\n",
    "    fig, axes = plt.subplots(ncols=3, figsize=(15, 5))\n",
    "    \n",
    "    for i in range(len(inputs)):\n",
    "        for ax, data, title in zip(axes, [inputs, targets, predictions], [\"Input\", \"Target\", \"Prediction\"]):\n",
    "            ax.clear()\n",
    "            ax.set_title(title)\n",
    "            ax.imshow(data[i, 0], cmap=\"gray\", interpolation=\"none\")\n",
    "            ax.set_axis_off()\n",
    "        fig.savefig(os.path.join(path, f\"{update:07d}_{i:02d}.png\"), dpi=100)\n",
    "    \n",
    "    plt.close(fig)"
   ]
  },
  {
   "cell_type": "markdown",
   "metadata": {},
   "source": [
    "### Dataset"
   ]
  },
  {
   "cell_type": "code",
   "execution_count": 3,
   "metadata": {},
   "outputs": [],
   "source": [
    "ds = Imgdataset(\"C:\\\\Users\\\\Bashar Hanna\\\\Desktop\\\\py2proj\\\\training\\\\000\")\n",
    "training_set = torch.utils.data.Subset(\n",
    "    ds,\n",
    "        indices=np.arange(int(len(ds) * (3 / 5)))\n",
    "    )\n",
    "validation_set = torch.utils.data.Subset(\n",
    "        ds,\n",
    "        indices=np.arange(int(len(ds) * (3 / 5)), int(len(ds) * (4 / 5)))\n",
    "    )\n",
    "test_set = torch.utils.data.Subset(\n",
    "        ds,\n",
    "        indices=np.arange(int(len(ds) * (4 / 5)), len(ds))\n",
    "    )"
   ]
  },
  {
   "cell_type": "markdown",
   "metadata": {},
   "source": [
    "### Collate_fn"
   ]
  },
  {
   "cell_type": "code",
   "execution_count": 4,
   "metadata": {},
   "outputs": [],
   "source": [
    "import torch\n",
    "\n",
    "\n",
    "def collate_fn(batch):\n",
    "    max_X = max([item[0].shape[1] for item in batch])\n",
    "    max_Y = max([item[0].shape[2] for item in batch])\n",
    "    n_feature_channels = batch[0][0].shape[0]\n",
    "    n_samples = len(batch)\n",
    "    #print(max([item[3].shape[2] for item in batch]))\n",
    "    stacked_pixelated_images = torch.zeros(\n",
    "        (n_samples, n_feature_channels, max_X, max_Y), dtype=torch.float32)\n",
    "    stacked_known_arrays = torch.zeros(\n",
    "        (n_samples, n_feature_channels, max_X, max_Y), dtype=torch.bool)\n",
    "    stacked_target_arrays = torch.zeros(\n",
    "        n_samples, n_feature_channels, max_X, max_Y, dtype=torch.float32)\n",
    "\n",
    "    for i, (pixelated_image, known_array, target_array, target_array_with_padding) in enumerate(batch):\n",
    "        stacked_pixelated_images[i, :, :pixelated_image.shape[1],\n",
    "                                 :pixelated_image.shape[2]] = pixelated_image\n",
    "        stacked_known_arrays[i, :, :known_array.shape[1],\n",
    "                             :known_array.shape[2]] = known_array\n",
    "        stacked_target_arrays[i, :, :target_array_with_padding.shape[1],\n",
    "                              :target_array_with_padding.shape[2]] = target_array_with_padding\n",
    "\n",
    "    return stacked_pixelated_images, stacked_known_arrays, stacked_target_arrays\n"
   ]
  },
  {
   "cell_type": "markdown",
   "metadata": {},
   "source": [
    "### Dataloader"
   ]
  },
  {
   "cell_type": "code",
   "execution_count": 5,
   "metadata": {},
   "outputs": [],
   "source": [
    "train_loader = torch.utils.data.DataLoader(training_set, batch_size=2, shuffle=False, num_workers=0, collate_fn=collate_fn)\n",
    "val_loader = torch.utils.data.DataLoader(validation_set, batch_size=2, shuffle=False, num_workers=0, collate_fn=collate_fn)\n",
    "test_loader = torch.utils.data.DataLoader(test_set, batch_size=2, shuffle=False, num_workers=0, collate_fn=collate_fn)"
   ]
  },
  {
   "cell_type": "markdown",
   "metadata": {},
   "source": [
    "### CNN"
   ]
  },
  {
   "cell_type": "code",
   "execution_count": 6,
   "metadata": {},
   "outputs": [],
   "source": [
    "class MyCNN(torch.nn.Module):\n",
    "    def __init__(self, n_in_channels: int = 1, n_hidden_layers: int = 3, n_kernels: int = 32, kernel_size: int = 7) -> None:\n",
    "        super().__init__()\n",
    "        cnn = []\n",
    "        for i in range(n_hidden_layers):\n",
    "            cnn.append(torch.nn.Conv2d(\n",
    "                in_channels=n_in_channels,\n",
    "                out_channels=n_kernels,\n",
    "                kernel_size=kernel_size,\n",
    "                padding=kernel_size // 2\n",
    "            ))\n",
    "            cnn.append(torch.nn.ReLU())\n",
    "            n_in_channels = n_kernels\n",
    "        self.hidden_layers = torch.nn.Sequential(*cnn)\n",
    "\n",
    "        self.output_layer = torch.nn.Conv2d(\n",
    "            in_channels=n_in_channels,\n",
    "            out_channels=1,\n",
    "            kernel_size=kernel_size,\n",
    "            padding=kernel_size // 2)\n",
    "\n",
    "    def forward(self, x):\n",
    "        \"\"\"Apply CNN to input ``x`` of shape ``(N, n_channels, X, Y)``, where\n",
    "        ``N=n_samples`` and ``X``, ``Y`` are spatial dimensions.\"\"\"\n",
    "        # Apply hidden layers: (N, n_in_channels, X, Y) -> (N, n_kernels, X, Y)\n",
    "        cnn_out = self.hidden_layers(x)\n",
    "        # Apply output layer: (N, n_kernels, X, Y) -> (N, 1, X, Y)\n",
    "        predictions = self.output_layer(cnn_out)\n",
    "        return predictions\n"
   ]
  },
  {
   "cell_type": "markdown",
   "metadata": {},
   "source": [
    "### Evaluate Model"
   ]
  },
  {
   "cell_type": "code",
   "execution_count": 7,
   "metadata": {},
   "outputs": [],
   "source": [
    "def evaluate_model(model: torch.nn.Module, loader: torch.utils.data.DataLoader, loss_fn, device: torch.device):\n",
    "    \"\"\"Function for evaluation of a model ``model`` on the data in\n",
    "    ``loader`` on device ``device``, using the specified ``loss_fn`` loss\n",
    "    function.\"\"\"\n",
    "    model.eval()\n",
    "    # We will accumulate the mean loss\n",
    "    loss = 0\n",
    "    with torch.no_grad():  # We do not need gradients for evaluation\n",
    "        # Loop over all samples in the specified data loader\n",
    "        for pixelated_images, known_arrays, target_arrays in tqdm(loader, desc=\"Evaluating\", position=0, leave=False):\n",
    "            # Get a sample and move inputs and targets to device\n",
    "            inputs = torch.cat((pixelated_images, known_arrays),1).to(device)\n",
    "            targets = target_arrays.to(device)\n",
    "            \n",
    "            # Get outputs of the specified model\n",
    "            outputs = model(inputs)\n",
    "            outputs = outputs*((~known_arrays)*1)\n",
    "            outputs = torch.clamp(outputs, min=0, max=255)\n",
    "            # Here, we could clamp the outputs to the minimum and maximum values\n",
    "            # of the inputs for better performance\n",
    "            \n",
    "            # Add the current loss, which is the mean loss over all minibatch\n",
    "            # samples (unless explicitly otherwise specified when creating the\n",
    "            # loss function!)\n",
    "            loss += loss_fn(outputs, targets).item()\n",
    "    # Get final mean loss by dividing by the number of minibatch iterations\n",
    "    # (which we summed up in the above loop)\n",
    "    loss /= len(loader)\n",
    "    model.train()\n",
    "    return loss"
   ]
  },
  {
   "cell_type": "markdown",
   "metadata": {},
   "source": [
    "## Main"
   ]
  },
  {
   "cell_type": "code",
   "execution_count": 8,
   "metadata": {},
   "outputs": [],
   "source": [
    "def main(\n",
    "        results_path,\n",
    "        network_config: dict,\n",
    "        learning_rate: float = 1e-3,\n",
    "        weight_decay: float = 1e-5,\n",
    "        n_updates: int = 50_000,\n",
    "        device: str = \"cuda\"\n",
    "):\n",
    "    device = torch.device(device)\n",
    "    if \"cuda\" in device.type and not torch.cuda.is_available():\n",
    "        warnings.warn(\"CUDA not available, falling back to CPU\")\n",
    "        device = torch.device(\"cpu\")\n",
    "    np.random.seed(4)\n",
    "    torch.manual_seed(4)\n",
    "\n",
    "    # Prepare a path to plot to\n",
    "    plot_path = os.path.join(results_path, \"plots\")\n",
    "    os.makedirs(plot_path, exist_ok=True)\n",
    "    writer = SummaryWriter(log_dir=os.path.join(results_path, \"tensorboard\"))\n",
    "    net = SimpleCNN(**network_config)\n",
    "    net.to(device)\n",
    "    mse = torch.nn.MSELoss()\n",
    "    optimizer = torch.optim.Adam(net.parameters(), lr=learning_rate, weight_decay=weight_decay)\n",
    "    write_stats_at = 1000  # Write status to TensorBoard every x updates\n",
    "    plot_at = 10_000  # Plot every x updates\n",
    "    validate_at = 5000  # Evaluate model on validation set and check for new best model every x updates\n",
    "    update = 0  # Current update counter\n",
    "    best_validation_loss = np.inf  # Best validation loss so far\n",
    "    update_progress_bar = tqdm(total=n_updates, desc=f\"loss: {np.nan:7.5f}\", position=0)\n",
    "    saved_model_file = os.path.join(results_path, \"best_model.pt\")\n",
    "    torch.save(net, saved_model_file)\n",
    "    while update < n_updates:\n",
    "        for pixelated_images, known_arrays, targets in train_loader:\n",
    "            # Get next samples\n",
    "            inputs = torch.cat((pixelated_images, known_arrays),1).to(device)\n",
    "            targets = targets.to(device)\n",
    "            \n",
    "            # Reset gradients\n",
    "            optimizer.zero_grad()\n",
    "            \n",
    "            # Get outputs of our network\n",
    "            outputs = net(inputs)\n",
    "            outputs = outputs*((~known_arrays)*1)\n",
    "            outputs = torch.clamp(outputs, min=0, max=255)\n",
    "            \n",
    "            # Calculate loss, do backward pass and update weights\n",
    "            loss = mse(outputs, targets)\n",
    "            loss.backward()\n",
    "            optimizer.step()\n",
    "            \n",
    "            # Write current training status\n",
    "            if (update + 1) % write_stats_at == 0:\n",
    "                writer.add_scalar(tag=\"Loss/training\", scalar_value=loss.cpu(), global_step=update)\n",
    "                for i, (name, param) in enumerate(net.named_parameters()):\n",
    "                    writer.add_histogram(tag=f\"Parameters/[{i}] {name}\", values=param.cpu(), global_step=update)\n",
    "                    writer.add_histogram(tag=f\"Gradients/[{i}] {name}\", values=param.grad.cpu(), global_step=update)\n",
    "            \n",
    "            # Plot output\n",
    "            if (update + 1) % plot_at == 0:\n",
    "                plot(inputs.detach().cpu().numpy(), targets.detach().cpu().numpy(), outputs.detach().cpu().numpy(),\n",
    "                     plot_path, update)\n",
    "            \n",
    "            # Evaluate model on validation set\n",
    "            if (update + 1) % validate_at == 0:\n",
    "                val_loss = evaluate_model(net, loader=val_loader, loss_fn=mse, device=device)\n",
    "                writer.add_scalar(tag=\"Loss/validation\", scalar_value=val_loss, global_step=update)\n",
    "                # Save best model for early stopping\n",
    "                if val_loss < best_validation_loss:\n",
    "                    best_validation_loss = val_loss\n",
    "                    torch.save(net, saved_model_file)\n",
    "            \n",
    "            update_progress_bar.set_description(f\"loss: {loss:7.5f}\", refresh=True)\n",
    "            update_progress_bar.update()\n",
    "            \n",
    "            # Increment update counter, exit if maximum number of updates is\n",
    "            # reached. Here, we could apply some early stopping heuristic and\n",
    "            # also exit if its stopping criterion is met\n",
    "            update += 1\n",
    "            if update >= n_updates:\n",
    "                break\n",
    "    update_progress_bar.close()\n",
    "    writer.close()\n",
    "    print(\"Finished Training!\")\n",
    "    \n",
    "    # Load best model and compute score on test set\n",
    "    print(f\"Computing scores for best model\")\n",
    "    net = torch.load(saved_model_file)\n",
    "    train_loss = evaluate_model(net, loader=train_loader, loss_fn=mse, device=device)\n",
    "    val_loss = evaluate_model(net, loader=val_loader, loss_fn=mse, device=device)\n",
    "    test_loss = evaluate_model(net, loader=test_loader, loss_fn=mse, device=device)\n",
    "    \n",
    "    print(f\"Scores:\")\n",
    "    print(f\"  training loss: {train_loss}\")\n",
    "    print(f\"validation loss: {val_loss}\")\n",
    "    print(f\"      test loss: {test_loss}\")\n",
    "    \n",
    "    # Write result to file\n",
    "    with open(os.path.join(results_path, \"results.txt\"), \"w\") as rf:\n",
    "        print(f\"Scores:\", file=rf)\n",
    "        print(f\"  training loss: {train_loss}\", file=rf)\n",
    "        print(f\"validation loss: {val_loss}\", file=rf)\n",
    "        print(f\"      test loss: {test_loss}\", file=rf)"
   ]
  },
  {
   "cell_type": "markdown",
   "metadata": {},
   "source": [
    "# Start training"
   ]
  },
  {
   "cell_type": "code",
   "execution_count": 9,
   "metadata": {},
   "outputs": [
    {
     "name": "stderr",
     "output_type": "stream",
     "text": [
      "loss: 25.06704: 100%|██████████| 50000/50000 [50:45<00:00, 16.42it/s]   \n"
     ]
    },
    {
     "name": "stdout",
     "output_type": "stream",
     "text": [
      "Finished Training!\n",
      "Computing scores for best model\n"
     ]
    },
    {
     "name": "stderr",
     "output_type": "stream",
     "text": [
      "                                                           "
     ]
    },
    {
     "name": "stdout",
     "output_type": "stream",
     "text": [
      "Scores:\n",
      "  training loss: 24.931518743435543\n",
      "validation loss: 61.228685569763186\n",
      "      test loss: 69.21344728469849\n"
     ]
    },
    {
     "name": "stderr",
     "output_type": "stream",
     "text": [
      "\r"
     ]
    }
   ],
   "source": [
    "import json\n",
    "\n",
    "\n",
    "with open(\"C:\\\\Users\\\\Bashar Hanna\\\\Desktop\\\\py2proj\\\\config_file.json\") as cf:\n",
    "    config = json.load(cf)\n",
    "main(**config)"
   ]
  }
 ],
 "metadata": {
  "kernelspec": {
   "display_name": "base",
   "language": "python",
   "name": "python3"
  },
  "language_info": {
   "codemirror_mode": {
    "name": "ipython",
    "version": 3
   },
   "file_extension": ".py",
   "mimetype": "text/x-python",
   "name": "python",
   "nbconvert_exporter": "python",
   "pygments_lexer": "ipython3",
   "version": "3.10.9"
  },
  "orig_nbformat": 4
 },
 "nbformat": 4,
 "nbformat_minor": 2
}
